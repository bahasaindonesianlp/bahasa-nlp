{
 "cells": [
  {
   "cell_type": "code",
   "execution_count": null,
   "metadata": {},
   "outputs": [],
   "source": [
    "!wget https://github.com/yohanesgultom/nlp-experiments/raw/master/data/ner/training_data.txt\n",
    "!wget https://github.com/yohanesgultom/nlp-experiments/raw/master/data/ner/testing_data.txt"
   ]
  },
  {
   "cell_type": "code",
   "execution_count": 1,
   "metadata": {},
   "outputs": [],
   "source": [
    "from bs4 import BeautifulSoup\n",
    "import pandas as pd\n",
    "import string\n",
    "from multiprocessing import Pool"
   ]
  },
  {
   "cell_type": "code",
   "execution_count": 2,
   "metadata": {},
   "outputs": [],
   "source": [
    "def make_iob(list_of_dicts):\n",
    "    acceptable_characters = string.ascii_letters + string.digits + \"-_*. \"\n",
    "    iob = list()\n",
    "    for item in list_of_dicts:\n",
    "        word = ''.join(c for c in item['word'] if c in acceptable_characters)\n",
    "        iob.append(\"{} {}\".format(word,item['tag']))\n",
    "    return iob"
   ]
  },
  {
   "cell_type": "code",
   "execution_count": 3,
   "metadata": {},
   "outputs": [],
   "source": [
    "def make_tagged_sentence(xml):\n",
    "    xml = xml.split('\\t')[0]\n",
    "    tagged = list()\n",
    "    objects = xml.replace('/ENAMEX>','').split('<')\n",
    "    for obj in objects:\n",
    "        #obj = obj.replace(':',' ').replace('.',' ').replace('(',' ').replace(')',' ')\n",
    "        if obj.startswith('ENAMEX'):\n",
    "            ner_type = obj.split('>')[0].replace('ENAMEX TYPE=\"','').replace('\"','')\n",
    "            words = obj.split('>')[1]\n",
    "            words = words.split(' ')\n",
    "            clean_word = words[0].translate(str.maketrans('', '', string.punctuation))\n",
    "            if len(clean_word) > 0:\n",
    "                tag = \" B-{}\".format(ner_type)\n",
    "                tagged.append({'tag':tag,'word':clean_word})\n",
    "            for i in range(len(words[1:])):\n",
    "                clean_word = words[i+1].translate(str.maketrans('', '', string.punctuation))\n",
    "                if len(clean_word) > 0:\n",
    "                    tag = \" I-{}\".format(ner_type)\n",
    "                    tagged.append({'tag':tag,'word':clean_word})\n",
    "            #print(ner_type)\n",
    "        else:\n",
    "            obj = obj.split(' ')\n",
    "            for word in obj:\n",
    "                clean_word = word.translate(str.maketrans('', '', string.punctuation))\n",
    "                if len(clean_word) > 0:\n",
    "                    tag = 'O'\n",
    "                    tagged.append({'tag':tag,'word':clean_word})\n",
    "    return(tagged)"
   ]
  },
  {
   "cell_type": "code",
   "execution_count": 6,
   "metadata": {},
   "outputs": [],
   "source": [
    "def make_iob_file(infilename):\n",
    "    with open(infilename, 'r') as infile:\n",
    "        sentences = infile.readlines()\n",
    "        pool = Pool()\n",
    "        tagged = pool.map(make_tagged_sentence,sentences)\n",
    "        single_list = list()\n",
    "        for tag in tagged:\n",
    "            single_list.extend(tag)\n",
    "        iob = make_iob(single_list)\n",
    "    outfilename = infilename.replace('.txt','.iob')\n",
    "    with open(outfilename,'w') as outfile:\n",
    "        outfile.write(\"\\n\".join(str(item) for item in iob))"
   ]
  },
  {
   "cell_type": "code",
   "execution_count": 7,
   "metadata": {},
   "outputs": [],
   "source": [
    "filenames = ['training_data.txt','testing_data.txt']"
   ]
  },
  {
   "cell_type": "code",
   "execution_count": 8,
   "metadata": {},
   "outputs": [],
   "source": [
    "for filename in filenames:\n",
    "    result = make_iob_file(filename)"
   ]
  },
  {
   "cell_type": "code",
   "execution_count": 9,
   "metadata": {},
   "outputs": [
    {
     "ename": "NameError",
     "evalue": "name 'iob' is not defined",
     "output_type": "error",
     "traceback": [
      "\u001b[0;31m---------------------------------------------------------------------------\u001b[0m",
      "\u001b[0;31mNameError\u001b[0m                                 Traceback (most recent call last)",
      "\u001b[0;32m<ipython-input-9-c659a949dd10>\u001b[0m in \u001b[0;36m<module>\u001b[0;34m()\u001b[0m\n\u001b[0;32m----> 1\u001b[0;31m \u001b[0miob\u001b[0m\u001b[0;34m\u001b[0m\u001b[0;34m\u001b[0m\u001b[0m\n\u001b[0m",
      "\u001b[0;31mNameError\u001b[0m: name 'iob' is not defined"
     ]
    }
   ],
   "source": [
    "iob"
   ]
  },
  {
   "cell_type": "code",
   "execution_count": null,
   "metadata": {},
   "outputs": [],
   "source": []
  },
  {
   "cell_type": "code",
   "execution_count": null,
   "metadata": {},
   "outputs": [],
   "source": []
  }
 ],
 "metadata": {
  "kernelspec": {
   "display_name": "Python 3",
   "language": "python",
   "name": "python3"
  },
  "language_info": {
   "codemirror_mode": {
    "name": "ipython",
    "version": 3
   },
   "file_extension": ".py",
   "mimetype": "text/x-python",
   "name": "python",
   "nbconvert_exporter": "python",
   "pygments_lexer": "ipython3",
   "version": "3.7.1"
  }
 },
 "nbformat": 4,
 "nbformat_minor": 2
}
